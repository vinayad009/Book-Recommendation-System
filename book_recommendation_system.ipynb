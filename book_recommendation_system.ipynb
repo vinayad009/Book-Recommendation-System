{
 "cells": [
  {
   "cell_type": "markdown",
   "metadata": {},
   "source": [
    "1. Loading the books as Plain text"
   ]
  },
  {
   "cell_type": "code",
   "execution_count": 1,
   "metadata": {},
   "outputs": [],
   "source": [
    "import os, glob, re"
   ]
  },
  {
   "cell_type": "code",
   "execution_count": 2,
   "metadata": {},
   "outputs": [
    {
     "data": {
      "text/plain": [
       "['dataset\\\\A Christmas Carol by Charles Dickens.txt',\n",
       " 'dataset\\\\A Christmas Carol in Prose; Being a Ghost Story of Christmas by Charles Dickens.txt',\n",
       " 'dataset\\\\A Monograph on the Sub-class Cirripedia (Volume 1 of 2) by Charles Darwin.txt',\n",
       " 'dataset\\\\A Tale of Two Cities by Charles Dickens.txt',\n",
       " 'dataset\\\\American Notes by Charles Dickens.txt',\n",
       " 'dataset\\\\Bleak House by Charles Dickens.txt',\n",
       " 'dataset\\\\David Copperfield by Charles Dickens.txt',\n",
       " 'dataset\\\\De afstamming van den mensch en de seksueele teeltkeus, deel 2 (van 2) by Darwin.txt',\n",
       " 'dataset\\\\Dombey and Son by Charles Dickens.txt',\n",
       " 'dataset\\\\Great Expectations by Charles Dickens.txt',\n",
       " 'dataset\\\\Hard Times by Charles Dickens.txt',\n",
       " 'dataset\\\\Index of the Project Gutenberg Works of Charles Darwin by Charles Darwin.txt',\n",
       " 'dataset\\\\Insectivorous Plants by Charles Darwin.txt',\n",
       " 'dataset\\\\Journal of Researches into the Natural History and Geology of the Countries.txt',\n",
       " 'dataset\\\\Life and Letters of Charles Darwin — Volume 1 by Charles Darwin.txt',\n",
       " 'dataset\\\\Little Dorrit by Charles Dickens.txt',\n",
       " 'dataset\\\\Martin Chuzzlewit by Charles Dickens.txt',\n",
       " 'dataset\\\\More Letters of Charles Darwin — Volume 1 by Charles Darwin.txt',\n",
       " 'dataset\\\\More Letters of Charles Darwin — Volume 2 by Charles Darwin.txt',\n",
       " 'dataset\\\\Nicholas Nickleby by Charles Dickens.txt',\n",
       " 'dataset\\\\Oliver Twist by Charles Dickens.txt',\n",
       " 'dataset\\\\On the Origin of Species By Means of Natural Selection by Charles Darwin.txt',\n",
       " 'dataset\\\\Our Mutual Friend by Charles Dickens.txt',\n",
       " 'dataset\\\\The Autobiography of Charles Darwin by Charles Darwin.txt',\n",
       " 'dataset\\\\The Descent of Man and Selection in Relation to Sex, Vol. I by Charles Darwin.txt',\n",
       " 'dataset\\\\The Descent of Man and Selection in Relation to Sex, Vol. II (1st Edition).txt',\n",
       " 'dataset\\\\The Descent of Man, and Selection in Relation to Sex by Charles Darwin.txt',\n",
       " 'dataset\\\\The Expression of the Emotions in Man and Animals by Charles Darwin.txt',\n",
       " 'dataset\\\\The Formation of Vegetable Mould Through the Action of Worms by Charles Darwin.txt',\n",
       " 'dataset\\\\The Movements and Habits of Climbing Plants by Charles Darwin.txt',\n",
       " 'dataset\\\\The Mystery of Edwin Drood by Charles Dickens.txt',\n",
       " 'dataset\\\\The Pickwick Papers by Charles Dickens.txt',\n",
       " 'dataset\\\\The Power of Movement in Plants by Charles Darwin and Sir Francis Darwin.txt',\n",
       " 'dataset\\\\The Variation of Animals and Plants Under Domestication, Vol. I. by Charles Darwin.txt',\n",
       " 'dataset\\\\The Variation of Animals and Plants under Domestication by Charles Darwin.txt',\n",
       " 'dataset\\\\The Voyage of the Beagle by Charles Darwin.txt']"
      ]
     },
     "execution_count": 2,
     "metadata": {},
     "output_type": "execute_result"
    }
   ],
   "source": [
    "folder = \"dataset/\"\n",
    "\n",
    "files = glob.glob(folder + \"*.txt\")\n",
    "files.sort()\n",
    "files"
   ]
  },
  {
   "cell_type": "code",
   "execution_count": 3,
   "metadata": {},
   "outputs": [
    {
     "data": {
      "text/plain": [
       "[(174502, 'A Christmas Carol by Charles Dickens'),\n",
       " (169571,\n",
       "  'A Christmas Carol in Prose; Being a Ghost Story of Christmas by Charles Dickens'),\n",
       " (786179,\n",
       "  'A Monograph on the Sub-class Cirripedia (Volume 1 of 2) by Charles Darwin'),\n",
       " (741879, 'A Tale of Two Cities by Charles Dickens'),\n",
       " (584589, 'American Notes by Charles Dickens'),\n",
       " (1876768, 'Bleak House by Charles Dickens'),\n",
       " (1861956, 'David Copperfield by Charles Dickens'),\n",
       " (927384,\n",
       "  'De afstamming van den mensch en de seksueele teeltkeus, deel 2 (van 2) by Darwin'),\n",
       " (1925578, 'Dombey and Son by Charles Dickens'),\n",
       " (970256, 'Great Expectations by Charles Dickens'),\n",
       " (565237, 'Hard Times by Charles Dickens'),\n",
       " (109505,\n",
       "  'Index of the Project Gutenberg Works of Charles Darwin by Charles Darwin'),\n",
       " (919684, 'Insectivorous Plants by Charles Darwin'),\n",
       " (1821035, 'Little Dorrit by Charles Dickens'),\n",
       " (1813996, 'Martin Chuzzlewit by Charles Dickens'),\n",
       " (1096508, 'More Letters of Charles Darwin — Volume 1 by Charles Darwin'),\n",
       " (1780677, 'Nicholas Nickleby by Charles Dickens'),\n",
       " (867506, 'Oliver Twist by Charles Dickens'),\n",
       " (928719,\n",
       "  'On the Origin of Species By Means of Natural Selection by Charles Darwin'),\n",
       " (1743745, 'Our Mutual Friend by Charles Dickens'),\n",
       " (142213, 'The Autobiography of Charles Darwin by Charles Darwin'),\n",
       " (792889,\n",
       "  'The Descent of Man and Selection in Relation to Sex, Vol. I by Charles Darwin'),\n",
       " (942472,\n",
       "  'The Descent of Man and Selection in Relation to Sex, Vol. II (1st Edition)'),\n",
       " (1794368,\n",
       "  'The Descent of Man, and Selection in Relation to Sex by Charles Darwin'),\n",
       " (642824,\n",
       "  'The Expression of the Emotions in Man and Animals by Charles Darwin'),\n",
       " (360026,\n",
       "  'The Formation of Vegetable Mould Through the Action of Worms by Charles Darwin'),\n",
       " (318501, 'The Movements and Habits of Climbing Plants by Charles Darwin'),\n",
       " (532733, 'The Mystery of Edwin Drood by Charles Dickens'),\n",
       " (1672473, 'The Pickwick Papers by Charles Dickens'),\n",
       " (1106454,\n",
       "  'The Power of Movement in Plants by Charles Darwin and Sir Francis Darwin'),\n",
       " (1062421,\n",
       "  'The Variation of Animals and Plants Under Domestication, Vol. I. by Charles Darwin')]"
      ]
     },
     "execution_count": 3,
     "metadata": {},
     "output_type": "execute_result"
    }
   ],
   "source": [
    "txts = []\n",
    "titles = []\n",
    "\n",
    "for n in files:\n",
    "    f = open(n, encoding='utf-8-sig')   # Open each books\n",
    "    data = re.sub(r'[\\W_]+', ' ', f.read())  # Remove all non-alpha-numeric characters\n",
    "    if len(data) == 0:  # Remove empty books\n",
    "        continue\n",
    "    txts.append(data)\n",
    "    titles.append(os.path.basename(n).replace(\".txt\", \"\"))\n",
    "\n",
    "[(len(t), title) for t,title in zip(txts, titles)]"
   ]
  },
  {
   "cell_type": "code",
   "execution_count": 4,
   "metadata": {},
   "outputs": [
    {
     "name": "stdout",
     "output_type": "stream",
     "text": [
      "18\n"
     ]
    }
   ],
   "source": [
    "input_book = input(\"Enter the book name with author (book_name by  author_name): \")\n",
    "\n",
    "for i in range(len(titles)):\n",
    "    if titles[i] == input_book:\n",
    "        book_index = i\n",
    "\n",
    "print(book_index)"
   ]
  },
  {
   "cell_type": "code",
   "execution_count": 13,
   "metadata": {},
   "outputs": [
    {
     "name": "stderr",
     "output_type": "stream",
     "text": [
      "[nltk_data] Downloading package wordnet to\n",
      "[nltk_data]     C:\\Users\\vinay\\AppData\\Roaming\\nltk_data...\n",
      "[nltk_data]   Package wordnet is already up-to-date!\n"
     ]
    },
    {
     "data": {
      "text/plain": [
       "True"
      ]
     },
     "execution_count": 13,
     "metadata": {},
     "output_type": "execute_result"
    }
   ],
   "source": [
    "import nltk\n",
    "# nltk.download('wordnet')"
   ]
  },
  {
   "cell_type": "code",
   "execution_count": 10,
   "metadata": {},
   "outputs": [],
   "source": [
    "stopwords = set(nltk.corpus.stopwords.words('english'))"
   ]
  },
  {
   "cell_type": "code",
   "execution_count": 11,
   "metadata": {},
   "outputs": [
    {
     "data": {
      "text/plain": [
       "['project',\n",
       " 'gutenberg',\n",
       " 'ebook',\n",
       " 'origin',\n",
       " 'species',\n",
       " 'means',\n",
       " 'natural',\n",
       " 'selection',\n",
       " 'ebook',\n",
       " 'use']"
      ]
     },
     "execution_count": 11,
     "metadata": {},
     "output_type": "execute_result"
    }
   ],
   "source": [
    "\n",
    "txts_lower_case = [t.lower() for t in txts]\n",
    "\n",
    "txts_split = [t.split() for t in txts_lower_case]\n",
    "\n",
    "texts = [[word for word in txt if word not in stopwords] for txt in txts_split]\n",
    "\n",
    "texts[book_index][:10]   # Print the first 10 tokens of input book"
   ]
  },
  {
   "cell_type": "code",
   "execution_count": 15,
   "metadata": {},
   "outputs": [
    {
     "ename": "TypeError",
     "evalue": "unhashable type: 'list'",
     "output_type": "error",
     "traceback": [
      "\u001b[1;31m---------------------------------------------------------------------------\u001b[0m",
      "\u001b[1;31mTypeError\u001b[0m                                 Traceback (most recent call last)",
      "Cell \u001b[1;32mIn[15], line 3\u001b[0m\n\u001b[0;32m      1\u001b[0m lemmatizer \u001b[38;5;241m=\u001b[39m nltk\u001b[38;5;241m.\u001b[39mstem\u001b[38;5;241m.\u001b[39mWordNetLemmatizer()\n\u001b[1;32m----> 3\u001b[0m texts_stem \u001b[38;5;241m=\u001b[39m \u001b[43mlemmatizer\u001b[49m\u001b[38;5;241;43m.\u001b[39;49m\u001b[43mlemmatize\u001b[49m\u001b[43m(\u001b[49m\u001b[43mtexts\u001b[49m\u001b[43m)\u001b[49m\n\u001b[0;32m      4\u001b[0m \u001b[38;5;28mprint\u001b[39m(texts_stem)\n",
      "File \u001b[1;32md:\\College\\NLP\\Book Recommendation System\\venv\\Lib\\site-packages\\nltk\\stem\\wordnet.py:45\u001b[0m, in \u001b[0;36mWordNetLemmatizer.lemmatize\u001b[1;34m(self, word, pos)\u001b[0m\n\u001b[0;32m     33\u001b[0m \u001b[38;5;28;01mdef\u001b[39;00m \u001b[38;5;21mlemmatize\u001b[39m(\u001b[38;5;28mself\u001b[39m, word: \u001b[38;5;28mstr\u001b[39m, pos: \u001b[38;5;28mstr\u001b[39m \u001b[38;5;241m=\u001b[39m \u001b[38;5;124m\"\u001b[39m\u001b[38;5;124mn\u001b[39m\u001b[38;5;124m\"\u001b[39m) \u001b[38;5;241m-\u001b[39m\u001b[38;5;241m>\u001b[39m \u001b[38;5;28mstr\u001b[39m:\n\u001b[0;32m     34\u001b[0m \u001b[38;5;250m    \u001b[39m\u001b[38;5;124;03m\"\"\"Lemmatize `word` using WordNet's built-in morphy function.\u001b[39;00m\n\u001b[0;32m     35\u001b[0m \u001b[38;5;124;03m    Returns the input word unchanged if it cannot be found in WordNet.\u001b[39;00m\n\u001b[0;32m     36\u001b[0m \n\u001b[1;32m   (...)\u001b[0m\n\u001b[0;32m     43\u001b[0m \u001b[38;5;124;03m    :return: The lemma of `word`, for the given `pos`.\u001b[39;00m\n\u001b[0;32m     44\u001b[0m \u001b[38;5;124;03m    \"\"\"\u001b[39;00m\n\u001b[1;32m---> 45\u001b[0m     lemmas \u001b[38;5;241m=\u001b[39m \u001b[43mwn\u001b[49m\u001b[38;5;241;43m.\u001b[39;49m\u001b[43m_morphy\u001b[49m\u001b[43m(\u001b[49m\u001b[43mword\u001b[49m\u001b[43m,\u001b[49m\u001b[43m \u001b[49m\u001b[43mpos\u001b[49m\u001b[43m)\u001b[49m\n\u001b[0;32m     46\u001b[0m     \u001b[38;5;28;01mreturn\u001b[39;00m \u001b[38;5;28mmin\u001b[39m(lemmas, key\u001b[38;5;241m=\u001b[39m\u001b[38;5;28mlen\u001b[39m) \u001b[38;5;28;01mif\u001b[39;00m lemmas \u001b[38;5;28;01melse\u001b[39;00m word\n",
      "File \u001b[1;32md:\\College\\NLP\\Book Recommendation System\\venv\\Lib\\site-packages\\nltk\\corpus\\reader\\wordnet.py:2096\u001b[0m, in \u001b[0;36mWordNetCorpusReader._morphy\u001b[1;34m(self, form, pos, check_exceptions)\u001b[0m\n\u001b[0;32m   2094\u001b[0m \u001b[38;5;66;03m# 0. Check the exception lists\u001b[39;00m\n\u001b[0;32m   2095\u001b[0m \u001b[38;5;28;01mif\u001b[39;00m check_exceptions:\n\u001b[1;32m-> 2096\u001b[0m     \u001b[38;5;28;01mif\u001b[39;00m \u001b[43mform\u001b[49m\u001b[43m \u001b[49m\u001b[38;5;129;43;01min\u001b[39;49;00m\u001b[43m \u001b[49m\u001b[43mexceptions\u001b[49m:\n\u001b[0;32m   2097\u001b[0m         \u001b[38;5;28;01mreturn\u001b[39;00m filter_forms([form] \u001b[38;5;241m+\u001b[39m exceptions[form])\n\u001b[0;32m   2099\u001b[0m \u001b[38;5;66;03m# 1. Apply rules once to the input to get y1, y2, y3, etc.\u001b[39;00m\n",
      "\u001b[1;31mTypeError\u001b[0m: unhashable type: 'list'"
     ]
    }
   ],
   "source": [
    "lemmatizer = nltk.stem.WordNetLemmatizer()\n",
    "\n",
    "texts_stem = lemmatizer.lemmatize(texts)\n",
    "print(texts_stem)\n"
   ]
  },
  {
   "cell_type": "code",
   "execution_count": null,
   "metadata": {},
   "outputs": [],
   "source": []
  }
 ],
 "metadata": {
  "kernelspec": {
   "display_name": "venv",
   "language": "python",
   "name": "python3"
  },
  "language_info": {
   "codemirror_mode": {
    "name": "ipython",
    "version": 3
   },
   "file_extension": ".py",
   "mimetype": "text/x-python",
   "name": "python",
   "nbconvert_exporter": "python",
   "pygments_lexer": "ipython3",
   "version": "3.12.1"
  }
 },
 "nbformat": 4,
 "nbformat_minor": 2
}
